{
 "cells": [
  {
   "cell_type": "markdown",
   "metadata": {},
   "source": [
    "# Twitter data\n",
    "\n",
    "## Copyright and Licensing\n",
    "\n",
    "You are free to use or adapt this notebook for any purpose you'd like. However, please respect the [Simplified BSD License](https://github.com/ptwobrussell/Mining-the-Social-Web-2nd-Edition/blob/master/LICENSE.txt) that governs its use."
   ]
  },
  {
   "cell_type": "markdown",
   "metadata": {},
   "source": [
    "### Please Note:\n",
    "\n",
    "This notebook likely looks a little different from the video content in the course. This notebook has been modified to be easier to understand as Tweepy is generally an easier package to work with. The old notebooks will still be available in the course downloads page if desired, but they will not be regularly updated."
   ]
  },
  {
   "cell_type": "markdown",
   "metadata": {},
   "source": [
    "# Twitter API Access\n",
    "\n",
    "In order to use it to make requests to Twitter's API, you'll need to go to https://dev.twitter.com/apps and create a sample application.\n",
    "\n",
    "Choose any name for your application, write a description and use `http://google.com` for the website. Further instructions can be found in week 6 of the course.\n",
    "\n",
    "Under **Key and Access Tokens**, there are four primary identifiers you'll need to note: \n",
    "* consumer key, \n",
    "* consumer secret, \n",
    "* access token, and \n",
    "* access token secret (Click on Create Access Token to create those).\n",
    "\n",
    "Note that you will need an ordinary Twitter account in order to login, create an app, and get these credentials."
   ]
  },
  {
   "cell_type": "markdown",
   "metadata": {},
   "source": [
    "Install the `tweepy` package to interface with the Twitter API"
   ]
  },
  {
   "cell_type": "code",
   "execution_count": 45,
   "metadata": {},
   "outputs": [
    {
     "output_type": "stream",
     "name": "stdout",
     "text": [
      "Requirement already satisfied: tweepy in c:\\users\\maxei\\anaconda3\\lib\\site-packages (3.9.0)\nRequirement already satisfied: requests-oauthlib>=0.7.0 in c:\\users\\maxei\\anaconda3\\lib\\site-packages (from tweepy) (1.3.0)\nRequirement already satisfied: six>=1.10.0 in c:\\users\\maxei\\anaconda3\\lib\\site-packages (from tweepy) (1.15.0)\nRequirement already satisfied: requests[socks]>=2.11.1 in c:\\users\\maxei\\anaconda3\\lib\\site-packages (from tweepy) (2.24.0)\nRequirement already satisfied: oauthlib>=3.0.0 in c:\\users\\maxei\\anaconda3\\lib\\site-packages (from requests-oauthlib>=0.7.0->tweepy) (3.1.0)\nRequirement already satisfied: certifi>=2017.4.17 in c:\\users\\maxei\\anaconda3\\lib\\site-packages (from requests[socks]>=2.11.1->tweepy) (2020.6.20)\nRequirement already satisfied: chardet<4,>=3.0.2 in c:\\users\\maxei\\anaconda3\\lib\\site-packages (from requests[socks]>=2.11.1->tweepy) (3.0.4)\nRequirement already satisfied: idna<3,>=2.5 in c:\\users\\maxei\\anaconda3\\lib\\site-packages (from requests[socks]>=2.11.1->tweepy) (2.10)\nRequirement already satisfied: urllib3!=1.25.0,!=1.25.1,<1.26,>=1.21.1 in c:\\users\\maxei\\anaconda3\\lib\\site-packages (from requests[socks]>=2.11.1->tweepy) (1.25.9)\nRequirement already satisfied: PySocks!=1.5.7,>=1.5.6; extra == \"socks\" in c:\\users\\maxei\\anaconda3\\lib\\site-packages (from requests[socks]>=2.11.1->tweepy) (1.7.1)\n"
     ]
    }
   ],
   "source": [
    "#pip install for the package we will be using\n",
    "!pip install tweepy"
   ]
  },
  {
   "cell_type": "markdown",
   "metadata": {},
   "source": [
    "## Example 1. Authorizing an application to access Twitter account data"
   ]
  },
  {
   "cell_type": "code",
   "execution_count": 46,
   "metadata": {},
   "outputs": [
    {
     "output_type": "stream",
     "name": "stdout",
     "text": [
      "<tweepy.api.API object at 0x0000024E5C1F35E0>\n"
     ]
    }
   ],
   "source": [
    "import tweepy\n",
    "\n",
    "#Setting up the keys and tokens\n",
    "c_k = \"MKvQeRdJEJVAnPawvtRdsrMv4\"\n",
    "c_s = \"AvQ4RALsR8glFFl4h5lZIRZcYkWUBB03HxilPHn8ZY0NyEBIYi\"\n",
    "\n",
    "a_t = \"762772799962411008-3sRgPnehRbkVcrxe1UrO1pSDliRh8iX\"\n",
    "a_s = \"X2lwRraJxqLlzrfDxVnvDXTvZjzKoVziBTqqmsVkYclWs\"\n",
    "\n",
    "auth = tweepy.OAuthHandler(c_k, c_s)\n",
    "auth.set_access_token(a_t, a_s)\n",
    "api = tweepy.API(auth)\n",
    "\n",
    "# Nothing to see by displaying twitter_api except that it's now a\n",
    "# defined variable\n",
    "\n",
    "print(api)"
   ]
  },
  {
   "cell_type": "markdown",
   "metadata": {},
   "source": [
    "## Example 2. Retrieving trends"
   ]
  },
  {
   "cell_type": "markdown",
   "metadata": {},
   "source": [
    "Twitter identifies locations using the Yahoo! Where On Earth ID.\n",
    "\n",
    "The Yahoo! Where On Earth ID for the entire world is 1.\n",
    "See https://dev.twitter.com/docs/api/1.1/get/trends/place and\n",
    "http://developer.yahoo.com/geo/geoplanet/\n",
    "\n",
    "look at the BOSS placefinder here: https://developer.yahoo.com/boss/placefinder/\n",
    "\n",
    "To look up an area use:\n",
    "https://www.findmecity.com/"
   ]
  },
  {
   "cell_type": "code",
   "execution_count": 47,
   "metadata": {},
   "outputs": [],
   "source": [
    "WORLD_WOE_ID = 1\n",
    "US_WOE_ID = 23424977"
   ]
  },
  {
   "cell_type": "markdown",
   "metadata": {},
   "source": [
    "Look up the WOE ID for \"San Diego\" and you should find the following ID below defined as \"LOCAL_WOE_ID\".\n",
    "\n",
    "You can change this if you would like."
   ]
  },
  {
   "cell_type": "code",
   "execution_count": 55,
   "metadata": {},
   "outputs": [],
   "source": [
    "LOCAL_WOE_ID=551801\n",
    "\n",
    "# Prefix ID with the underscore for query string parameterization.\n",
    "# Without the underscore, the twitter package appends the ID value\n",
    "# to the URL itself as a special case keyword argument.\n",
    "\n",
    "world_trends = api.trends_place(WORLD_WOE_ID)\n",
    "us_trends = api.trends_place(US_WOE_ID)\n",
    "local_trends = api.trends_place(LOCAL_WOE_ID)"
   ]
  },
  {
   "cell_type": "code",
   "execution_count": 56,
   "metadata": {},
   "outputs": [
    {
     "output_type": "execute_result",
     "data": {
      "text/plain": [
       "list"
      ]
     },
     "metadata": {},
     "execution_count": 56
    }
   ],
   "source": [
    "type(world_trends[0]['trends'])"
   ]
  },
  {
   "cell_type": "code",
   "execution_count": 57,
   "metadata": {},
   "outputs": [
    {
     "output_type": "execute_result",
     "data": {
      "text/plain": [
       "[{'trends': [{'name': '#TOTMCI',\n",
       "    'url': 'http://twitter.com/search?q=%23TOTMCI',\n",
       "    'promoted_content': None,\n",
       "    'query': '%23TOTMCI',\n",
       "    'tweet_volume': 30318},\n",
       "   {'name': 'Mourinho',\n",
       "    'url': 'http://twitter.com/search?q=Mourinho',\n",
       "    'promoted_content': None,\n",
       "    'query': 'Mourinho',\n",
       "    'tweet_volume': 46992},\n",
       "   {'name': 'Spurs',\n",
       "    'url': 'http://twitter.com/search?q=Spurs',\n",
       "    'promoted_content': None,\n",
       "    'query': 'Spurs',\n",
       "    'tweet_volume': 70128},\n",
       "   {'name': '#COYS',\n",
       "    'url': 'http://twitter.com/search?q=%23COYS',\n",
       "    'promoted_content': None,\n",
       "    'query': '%23COYS',\n",
       "    'tweet_volume': 25114},\n",
       "   {'name': 'Harry Kane',\n",
       "    'url': 'http://twitter.com/search?q=%22Harry+Kane%22',\n",
       "    'promoted_content': None,\n",
       "    'query': '%22Harry+Kane%22',\n",
       "    'tweet_volume': 13701},\n",
       "   {'name': 'Tottenham',\n",
       "    'url': 'http://twitter.com/search?q=Tottenham',\n",
       "    'promoted_content': None,\n",
       "    'query': 'Tottenham',\n",
       "    'tweet_volume': 50332},\n",
       "   {'name': '#Strictly',\n",
       "    'url': 'http://twitter.com/search?q=%23Strictly',\n",
       "    'promoted_content': None,\n",
       "    'query': '%23Strictly',\n",
       "    'tweet_volume': None},\n",
       "   {'name': 'Hayward',\n",
       "    'url': 'http://twitter.com/search?q=Hayward',\n",
       "    'promoted_content': None,\n",
       "    'query': 'Hayward',\n",
       "    'tweet_volume': 73016},\n",
       "   {'name': 'Justin Fields',\n",
       "    'url': 'http://twitter.com/search?q=%22Justin+Fields%22',\n",
       "    'promoted_content': None,\n",
       "    'query': '%22Justin+Fields%22',\n",
       "    'tweet_volume': None},\n",
       "   {'name': 'Mahrez',\n",
       "    'url': 'http://twitter.com/search?q=Mahrez',\n",
       "    'promoted_content': None,\n",
       "    'query': 'Mahrez',\n",
       "    'tweet_volume': 14664},\n",
       "   {'name': 'Ederson',\n",
       "    'url': 'http://twitter.com/search?q=Ederson',\n",
       "    'promoted_content': None,\n",
       "    'query': 'Ederson',\n",
       "    'tweet_volume': None},\n",
       "   {'name': 'Indiana',\n",
       "    'url': 'http://twitter.com/search?q=Indiana',\n",
       "    'promoted_content': None,\n",
       "    'query': 'Indiana',\n",
       "    'tweet_volume': 39080},\n",
       "   {'name': '#bizevdeyiz',\n",
       "    'url': 'http://twitter.com/search?q=%23bizevdeyiz',\n",
       "    'promoted_content': None,\n",
       "    'query': '%23bizevdeyiz',\n",
       "    'tweet_volume': None},\n",
       "   {'name': 'Man City',\n",
       "    'url': 'http://twitter.com/search?q=%22Man+City%22',\n",
       "    'promoted_content': None,\n",
       "    'query': '%22Man+City%22',\n",
       "    'tweet_volume': 39748},\n",
       "   {'name': 'Hornets',\n",
       "    'url': 'http://twitter.com/search?q=Hornets',\n",
       "    'promoted_content': None,\n",
       "    'query': 'Hornets',\n",
       "    'tweet_volume': 36289},\n",
       "   {'name': 'Lo Celso',\n",
       "    'url': 'http://twitter.com/search?q=%22Lo+Celso%22',\n",
       "    'promoted_content': None,\n",
       "    'query': '%22Lo+Celso%22',\n",
       "    'tweet_volume': None},\n",
       "   {'name': 'Batum',\n",
       "    'url': 'http://twitter.com/search?q=Batum',\n",
       "    'promoted_content': None,\n",
       "    'query': 'Batum',\n",
       "    'tweet_volume': 10950},\n",
       "   {'name': 'Ohio State',\n",
       "    'url': 'http://twitter.com/search?q=%22Ohio+State%22',\n",
       "    'promoted_content': None,\n",
       "    'query': '%22Ohio+State%22',\n",
       "    'tweet_volume': 18374},\n",
       "   {'name': 'Charlotte',\n",
       "    'url': 'http://twitter.com/search?q=Charlotte',\n",
       "    'promoted_content': None,\n",
       "    'query': 'Charlotte',\n",
       "    'tweet_volume': 52510},\n",
       "   {'name': '#TUBBO1MIL',\n",
       "    'url': 'http://twitter.com/search?q=%23TUBBO1MIL',\n",
       "    'promoted_content': None,\n",
       "    'query': '%23TUBBO1MIL',\n",
       "    'tweet_volume': None},\n",
       "   {'name': 'Guardiola',\n",
       "    'url': 'http://twitter.com/search?q=Guardiola',\n",
       "    'promoted_content': None,\n",
       "    'query': 'Guardiola',\n",
       "    'tweet_volume': 20171},\n",
       "   {'name': 'TRINTA DA RAI',\n",
       "    'url': 'http://twitter.com/search?q=%22TRINTA+DA+RAI%22',\n",
       "    'promoted_content': None,\n",
       "    'query': '%22TRINTA+DA+RAI%22',\n",
       "    'tweet_volume': 152796},\n",
       "   {'name': '9ice',\n",
       "    'url': 'http://twitter.com/search?q=9ice',\n",
       "    'promoted_content': None,\n",
       "    'query': '9ice',\n",
       "    'tweet_volume': 17185},\n",
       "   {'name': 'Nebraska',\n",
       "    'url': 'http://twitter.com/search?q=Nebraska',\n",
       "    'promoted_content': None,\n",
       "    'query': 'Nebraska',\n",
       "    'tweet_volume': 12586},\n",
       "   {'name': 'توتنهام',\n",
       "    'url': 'http://twitter.com/search?q=%D8%AA%D9%88%D8%AA%D9%86%D9%87%D8%A7%D9%85',\n",
       "    'promoted_content': None,\n",
       "    'query': '%D8%AA%D9%88%D8%AA%D9%86%D9%87%D8%A7%D9%85',\n",
       "    'tweet_volume': 15094},\n",
       "   {'name': 'مورينهو',\n",
       "    'url': 'http://twitter.com/search?q=%D9%85%D9%88%D8%B1%D9%8A%D9%86%D9%87%D9%88',\n",
       "    'promoted_content': None,\n",
       "    'query': '%D9%85%D9%88%D8%B1%D9%8A%D9%86%D9%87%D9%88',\n",
       "    'tweet_volume': None},\n",
       "   {'name': 'Dest',\n",
       "    'url': 'http://twitter.com/search?q=Dest',\n",
       "    'promoted_content': None,\n",
       "    'query': 'Dest',\n",
       "    'tweet_volume': None},\n",
       "   {'name': 'baekhyun',\n",
       "    'url': 'http://twitter.com/search?q=baekhyun',\n",
       "    'promoted_content': None,\n",
       "    'query': 'baekhyun',\n",
       "    'tweet_volume': 180537},\n",
       "   {'name': 'Hojbjerg',\n",
       "    'url': 'http://twitter.com/search?q=Hojbjerg',\n",
       "    'promoted_content': None,\n",
       "    'query': 'Hojbjerg',\n",
       "    'tweet_volume': None},\n",
       "   {'name': 'Stuart',\n",
       "    'url': 'http://twitter.com/search?q=Stuart',\n",
       "    'promoted_content': None,\n",
       "    'query': 'Stuart',\n",
       "    'tweet_volume': 14828},\n",
       "   {'name': 'Danny Ainge',\n",
       "    'url': 'http://twitter.com/search?q=%22Danny+Ainge%22',\n",
       "    'promoted_content': None,\n",
       "    'query': '%22Danny+Ainge%22',\n",
       "    'tweet_volume': None},\n",
       "   {'name': 'De Bruyne',\n",
       "    'url': 'http://twitter.com/search?q=%22De+Bruyne%22',\n",
       "    'promoted_content': None,\n",
       "    'query': '%22De+Bruyne%22',\n",
       "    'tweet_volume': None},\n",
       "   {'name': 'Ndombele',\n",
       "    'url': 'http://twitter.com/search?q=Ndombele',\n",
       "    'promoted_content': None,\n",
       "    'query': 'Ndombele',\n",
       "    'tweet_volume': 10527},\n",
       "   {'name': 'Tiago',\n",
       "    'url': 'http://twitter.com/search?q=Tiago',\n",
       "    'promoted_content': None,\n",
       "    'query': 'Tiago',\n",
       "    'tweet_volume': 11879},\n",
       "   {'name': 'Shaun Wade',\n",
       "    'url': 'http://twitter.com/search?q=%22Shaun+Wade%22',\n",
       "    'promoted_content': None,\n",
       "    'query': '%22Shaun+Wade%22',\n",
       "    'tweet_volume': None},\n",
       "   {'name': 'Aurier',\n",
       "    'url': 'http://twitter.com/search?q=Aurier',\n",
       "    'promoted_content': None,\n",
       "    'query': 'Aurier',\n",
       "    'tweet_volume': None},\n",
       "   {'name': 'Michael Jordan',\n",
       "    'url': 'http://twitter.com/search?q=%22Michael+Jordan%22',\n",
       "    'promoted_content': None,\n",
       "    'query': '%22Michael+Jordan%22',\n",
       "    'tweet_volume': 10665},\n",
       "   {'name': 'Buckeyes',\n",
       "    'url': 'http://twitter.com/search?q=Buckeyes',\n",
       "    'promoted_content': None,\n",
       "    'query': 'Buckeyes',\n",
       "    'tweet_volume': None},\n",
       "   {'name': 'Celta',\n",
       "    'url': 'http://twitter.com/search?q=Celta',\n",
       "    'promoted_content': None,\n",
       "    'query': 'Celta',\n",
       "    'tweet_volume': None},\n",
       "   {'name': 'Lennon',\n",
       "    'url': 'http://twitter.com/search?q=Lennon',\n",
       "    'promoted_content': None,\n",
       "    'query': 'Lennon',\n",
       "    'tweet_volume': 14164},\n",
       "   {'name': 'Avery Bradley',\n",
       "    'url': 'http://twitter.com/search?q=%22Avery+Bradley%22',\n",
       "    'promoted_content': None,\n",
       "    'query': '%22Avery+Bradley%22',\n",
       "    'tweet_volume': 10269},\n",
       "   {'name': 'Brian Williams',\n",
       "    'url': 'http://twitter.com/search?q=%22Brian+Williams%22',\n",
       "    'promoted_content': None,\n",
       "    'query': '%22Brian+Williams%22',\n",
       "    'tweet_volume': 38271},\n",
       "   {'name': 'Vandy',\n",
       "    'url': 'http://twitter.com/search?q=Vandy',\n",
       "    'promoted_content': None,\n",
       "    'query': 'Vandy',\n",
       "    'tweet_volume': None},\n",
       "   {'name': 'Mike Dean',\n",
       "    'url': 'http://twitter.com/search?q=%22Mike+Dean%22',\n",
       "    'promoted_content': None,\n",
       "    'query': '%22Mike+Dean%22',\n",
       "    'tweet_volume': None},\n",
       "   {'name': 'Maisie',\n",
       "    'url': 'http://twitter.com/search?q=Maisie',\n",
       "    'promoted_content': None,\n",
       "    'query': 'Maisie',\n",
       "    'tweet_volume': None},\n",
       "   {'name': 'CHEGOU A PATROA',\n",
       "    'url': 'http://twitter.com/search?q=%22CHEGOU+A+PATROA%22',\n",
       "    'promoted_content': None,\n",
       "    'query': '%22CHEGOU+A+PATROA%22',\n",
       "    'tweet_volume': None},\n",
       "   {'name': 'Celtics',\n",
       "    'url': 'http://twitter.com/search?q=Celtics',\n",
       "    'promoted_content': None,\n",
       "    'query': 'Celtics',\n",
       "    'tweet_volume': 49963},\n",
       "   {'name': 'السيتي',\n",
       "    'url': 'http://twitter.com/search?q=%D8%A7%D9%84%D8%B3%D9%8A%D8%AA%D9%8A',\n",
       "    'promoted_content': None,\n",
       "    'query': '%D8%A7%D9%84%D8%B3%D9%8A%D8%AA%D9%8A',\n",
       "    'tweet_volume': None},\n",
       "   {'name': 'Clemson',\n",
       "    'url': 'http://twitter.com/search?q=Clemson',\n",
       "    'promoted_content': None,\n",
       "    'query': 'Clemson',\n",
       "    'tweet_volume': 23640},\n",
       "   {'name': 'Manchester City',\n",
       "    'url': 'http://twitter.com/search?q=%22Manchester+City%22',\n",
       "    'promoted_content': None,\n",
       "    'query': '%22Manchester+City%22',\n",
       "    'tweet_volume': 20393}],\n",
       "  'as_of': '2020-11-21T19:55:13Z',\n",
       "  'created_at': '2020-11-20T10:10:21Z',\n",
       "  'locations': [{'name': 'Worldwide', 'woeid': 1}]}]"
      ]
     },
     "metadata": {},
     "execution_count": 57
    }
   ],
   "source": [
    "world_trends[:2]"
   ]
  },
  {
   "cell_type": "code",
   "execution_count": 58,
   "metadata": {},
   "outputs": [
    {
     "output_type": "stream",
     "name": "stdout",
     "text": [
      "<class 'list'>\n['trends', 'as_of', 'created_at', 'locations']\n[{'name': '#RBSSTU', 'url': 'http://twitter.com/search?q=%23RBSSTU', 'promoted_content': None, 'query': '%23RBSSTU', 'tweet_volume': None}, {'name': '#ATPFinals2020', 'url': 'http://twitter.com/search?q=%23ATPFinals2020', 'promoted_content': None, 'query': '%23ATPFinals2020', 'tweet_volume': None}, {'name': '#zib1', 'url': 'http://twitter.com/search?q=%23zib1', 'promoted_content': None, 'query': '%23zib1', 'tweet_volume': None}, {'name': '#thiem', 'url': 'http://twitter.com/search?q=%23thiem', 'promoted_content': None, 'query': '%23thiem', 'tweet_volume': None}, {'name': 'Sieg', 'url': 'http://twitter.com/search?q=Sieg', 'promoted_content': None, 'query': 'Sieg', 'tweet_volume': None}, {'name': 'Genesung', 'url': 'http://twitter.com/search?q=Genesung', 'promoted_content': None, 'query': 'Genesung', 'tweet_volume': None}, {'name': 'verlauf', 'url': 'http://twitter.com/search?q=verlauf', 'promoted_content': None, 'query': 'verlauf', 'tweet_volume': None}, {'name': 'Ebenen', 'url': 'http://twitter.com/search?q=Ebenen', 'promoted_content': None, 'query': 'Ebenen', 'tweet_volume': None}, {'name': 'Finale', 'url': 'http://twitter.com/search?q=Finale', 'promoted_content': None, 'query': 'Finale', 'tweet_volume': 75175}, {'name': 'Schönen Abend', 'url': 'http://twitter.com/search?q=%22Sch%C3%B6nen+Abend%22', 'promoted_content': None, 'query': '%22Sch%C3%B6nen+Abend%22', 'tweet_volume': None}, {'name': 'Meister', 'url': 'http://twitter.com/search?q=Meister', 'promoted_content': None, 'query': 'Meister', 'tweet_volume': None}, {'name': 'Zimmer', 'url': 'http://twitter.com/search?q=Zimmer', 'promoted_content': None, 'query': 'Zimmer', 'tweet_volume': None}, {'name': 'Jungs', 'url': 'http://twitter.com/search?q=Jungs', 'promoted_content': None, 'query': 'Jungs', 'tweet_volume': None}, {'name': 'Tore', 'url': 'http://twitter.com/search?q=Tore', 'promoted_content': None, 'query': 'Tore', 'tweet_volume': None}, {'name': 'Wald', 'url': 'http://twitter.com/search?q=Wald', 'promoted_content': None, 'query': 'Wald', 'tweet_volume': None}, {'name': 'Initiative', 'url': 'http://twitter.com/search?q=Initiative', 'promoted_content': None, 'query': 'Initiative', 'tweet_volume': 26138}, {'name': 'Zeitpunkt', 'url': 'http://twitter.com/search?q=Zeitpunkt', 'promoted_content': None, 'query': 'Zeitpunkt', 'tweet_volume': None}, {'name': 'Nachbar', 'url': 'http://twitter.com/search?q=Nachbar', 'promoted_content': None, 'query': 'Nachbar', 'tweet_volume': None}, {'name': 'Mannschaft', 'url': 'http://twitter.com/search?q=Mannschaft', 'promoted_content': None, 'query': 'Mannschaft', 'tweet_volume': None}, {'name': 'Anschober', 'url': 'http://twitter.com/search?q=Anschober', 'promoted_content': None, 'query': 'Anschober', 'tweet_volume': None}, {'name': 'Teststrategie', 'url': 'http://twitter.com/search?q=Teststrategie', 'promoted_content': None, 'query': 'Teststrategie', 'tweet_volume': None}, {'name': 'Boden', 'url': 'http://twitter.com/search?q=Boden', 'promoted_content': None, 'query': 'Boden', 'tweet_volume': None}, {'name': 'Spital', 'url': 'http://twitter.com/search?q=Spital', 'promoted_content': None, 'query': 'Spital', 'tweet_volume': None}, {'name': 'Nerven', 'url': 'http://twitter.com/search?q=Nerven', 'promoted_content': None, 'query': 'Nerven', 'tweet_volume': None}, {'name': 'Christmas', 'url': 'http://twitter.com/search?q=Christmas', 'promoted_content': None, 'query': 'Christmas', 'tweet_volume': 442566}, {'name': 'Ausrede', 'url': 'http://twitter.com/search?q=Ausrede', 'promoted_content': None, 'query': 'Ausrede', 'tweet_volume': None}, {'name': 'Konkurrenz', 'url': 'http://twitter.com/search?q=Konkurrenz', 'promoted_content': None, 'query': 'Konkurrenz', 'tweet_volume': None}, {'name': 'Daumen', 'url': 'http://twitter.com/search?q=Daumen', 'promoted_content': None, 'query': 'Daumen', 'tweet_volume': None}, {'name': 'Symptome', 'url': 'http://twitter.com/search?q=Symptome', 'promoted_content': None, 'query': 'Symptome', 'tweet_volume': None}, {'name': 'Versteh', 'url': 'http://twitter.com/search?q=Versteh', 'promoted_content': None, 'query': 'Versteh', 'tweet_volume': None}, {'name': 'Motto', 'url': 'http://twitter.com/search?q=Motto', 'promoted_content': None, 'query': 'Motto', 'tweet_volume': 10493}, {'name': 'Familien', 'url': 'http://twitter.com/search?q=Familien', 'promoted_content': None, 'query': 'Familien', 'tweet_volume': None}, {'name': 'Feminismus', 'url': 'http://twitter.com/search?q=Feminismus', 'promoted_content': None, 'query': 'Feminismus', 'tweet_volume': None}, {'name': 'Gewicht', 'url': 'http://twitter.com/search?q=Gewicht', 'promoted_content': None, 'query': 'Gewicht', 'tweet_volume': None}, {'name': 'Konzept', 'url': 'http://twitter.com/search?q=Konzept', 'promoted_content': None, 'query': 'Konzept', 'tweet_volume': None}, {'name': 'Realität', 'url': 'http://twitter.com/search?q=Realit%C3%A4t', 'promoted_content': None, 'query': 'Realit%C3%A4t', 'tweet_volume': None}, {'name': 'Geschichten', 'url': 'http://twitter.com/search?q=Geschichten', 'promoted_content': None, 'query': 'Geschichten', 'tweet_volume': None}, {'name': 'Türkis', 'url': 'http://twitter.com/search?q=T%C3%BCrkis', 'promoted_content': None, 'query': 'T%C3%BCrkis', 'tweet_volume': None}, {'name': 'Mund', 'url': 'http://twitter.com/search?q=Mund', 'promoted_content': None, 'query': 'Mund', 'tweet_volume': None}, {'name': 'Quarantäne', 'url': 'http://twitter.com/search?q=Quarant%C3%A4ne', 'promoted_content': None, 'query': 'Quarant%C3%A4ne', 'tweet_volume': None}, {'name': 'Geduld', 'url': 'http://twitter.com/search?q=Geduld', 'promoted_content': None, 'query': 'Geduld', 'tweet_volume': None}, {'name': 'Gesundheitsministerium', 'url': 'http://twitter.com/search?q=Gesundheitsministerium', 'promoted_content': None, 'query': 'Gesundheitsministerium', 'tweet_volume': None}, {'name': 'Salzburg', 'url': 'http://twitter.com/search?q=Salzburg', 'promoted_content': None, 'query': 'Salzburg', 'tweet_volume': None}, {'name': 'Kauf', 'url': 'http://twitter.com/search?q=Kauf', 'promoted_content': None, 'query': 'Kauf', 'tweet_volume': None}, {'name': 'bäume', 'url': 'http://twitter.com/search?q=b%C3%A4ume', 'promoted_content': None, 'query': 'b%C3%A4ume', 'tweet_volume': None}, {'name': 'frau maurer', 'url': 'http://twitter.com/search?q=%22frau+maurer%22', 'promoted_content': None, 'query': '%22frau+maurer%22', 'tweet_volume': None}, {'name': 'Germany', 'url': 'http://twitter.com/search?q=Germany', 'promoted_content': None, 'query': 'Germany', 'tweet_volume': 152974}, {'name': 'Beileid', 'url': 'http://twitter.com/search?q=Beileid', 'promoted_content': None, 'query': 'Beileid', 'tweet_volume': None}]\n"
     ]
    }
   ],
   "source": [
    "trends=local_trends\n",
    "print(type(trends))\n",
    "print(list(trends[0].keys()))\n",
    "print(trends[0]['trends'])"
   ]
  },
  {
   "cell_type": "markdown",
   "metadata": {},
   "source": [
    "## Example 3. Displaying API responses as pretty-printed JSON"
   ]
  },
  {
   "cell_type": "code",
   "execution_count": 59,
   "metadata": {},
   "outputs": [
    {
     "output_type": "stream",
     "name": "stdout",
     "text": [
      "[\n  {\n    \"trends\": [\n      {\n        \"name\": \"Justin Fields\",\n        \"url\": \"http://twitter.com/search?q=%22Justin+Fields%22\",\n        \"promoted_content\": null,\n        \"query\": \"%22Justin+Fields%22\",\n        \"tweet_volume\": null\n      },\n      {\n        \"name\": \"Hayward\",\n        \"url\": \"http://twitter.com/search?q=Hayward\",\n        \"promoted_content\": null,\n        \"query\": \"Hayward\",\n        \"tweet_volume\": 73016\n      },\n      {\n        \"name\": \"Indiana\",\n        \"url\": \"http://twitter.com/search?q=Indiana\",\n        \"promoted_content\": null,\n        \"query\": \"Indiana\",\n        \"tweet_volume\": 39080\n      },\n      {\n        \"name\": \"Ohio State\",\n        \"url\": \"http://twitter.com/search?q=%22Ohio+State%22\",\n        \"promoted_content\": null,\n        \"query\": \"%22Ohio+State%22\",\n        \"tweet_volume\": 18341\n      },\n      {\n        \"name\": \"Hornets\",\n        \"url\": \"http://twitter.com/search?q=Hornets\",\n        \"promoted_content\": null,\n        \"query\": \"Hornets\",\n        \"tweet_volume\": 36397\n      },\n      {\n        \"name\": \"Charlotte\",\n        \"url\": \"http://twitter.com/search?q=Charlotte\",\n        \"promoted_content\": null,\n        \"query\": \"Charlotte\",\n        \"tweet_volume\": 52510\n      },\n      {\n        \"name\": \"#COYS\",\n        \"url\": \"http://twitter.com/search?q=%23COYS\",\n        \"promoted_content\": null,\n        \"query\": \"%23COYS\",\n        \"tweet_volume\": 25114\n      },\n      {\n        \"name\": \"Batum\",\n        \"url\": \"http://twitter.com/search?q=Batum\",\n        \"promoted_content\": null,\n        \"query\": \"Batum\",\n        \"tweet_volume\": 10950\n      },\n      {\n        \"name\": \"Nebraska\",\n        \"url\": \"http://twitter.com/search?q=Nebraska\",\n        \"promoted_content\": null,\n        \"query\": \"Nebraska\",\n        \"tweet_volume\": 12586\n      },\n      {\n        \"name\": \"#TwitterTurkeyDrive\",\n        \"url\": \"http://twitter.com/search?q=%23TwitterTurkeyDrive\",\n        \"promoted_content\": null,\n        \"query\": \"%23TwitterTurkeyDrive\",\n        \"tweet_volume\": 25743\n      },\n      {\n        \"name\": \"#TUBBO1MIL\",\n        \"url\": \"http://twitter.com/search?q=%23TUBBO1MIL\",\n        \"promoted_content\": null,\n        \"query\": \"%23TUBBO1MIL\",\n        \"tweet_volume\": null\n      },\n      {\n        \"name\": \"#Huskers\",\n        \"url\": \"http://twitter.com/search?q=%23Huskers\",\n        \"promoted_content\": null,\n        \"query\": \"%23Huskers\",\n        \"tweet_volume\": null\n      },\n      {\n        \"name\": \"Shaun Wade\",\n        \"url\": \"http://twitter.com/search?q=%22Shaun+Wade%22\",\n        \"promoted_content\": null,\n        \"query\": \"%22Shaun+Wade%22\",\n        \"tweet_volume\": null\n      },\n      {\n        \"name\": \"Danny Ainge\",\n        \"url\": \"http://twitter.com/search?q=%22Danny+Ainge%22\",\n        \"promoted_content\": null,\n        \"query\": \"%22Danny+Ainge%22\",\n        \"tweet_volume\": null\n      },\n      {\n        \"name\": \"Buckeyes\",\n        \"url\": \"http://twitter.com/search?q=Buckeyes\",\n        \"promoted_content\": null,\n        \"query\": \"Buckeyes\",\n        \"tweet_volume\": null\n      },\n      {\n        \"name\": \"Mourinho\",\n        \"url\": \"http://twitter.com/search?q=Mourinho\",\n        \"promoted_content\": null,\n        \"query\": \"Mourinho\",\n        \"tweet_volume\": 46992\n      },\n      {\n        \"name\": \"Vandy\",\n        \"url\": \"http://twitter.com/search?q=Vandy\",\n        \"promoted_content\": null,\n        \"query\": \"Vandy\",\n        \"tweet_volume\": null\n      },\n      {\n        \"name\": \"Avery Bradley\",\n        \"url\": \"http://twitter.com/search?q=%22Avery+Bradley%22\",\n        \"promoted_content\": null,\n        \"query\": \"%22Avery+Bradley%22\",\n        \"tweet_volume\": 10269\n      },\n      {\n        \"name\": \"#TOTMCI\",\n        \"url\": \"http://twitter.com/search?q=%23TOTMCI\",\n        \"promoted_content\": null,\n        \"query\": \"%23TOTMCI\",\n        \"tweet_volume\": 30318\n      },\n      {\n        \"name\": \"Brian Williams\",\n        \"url\": \"http://twitter.com/search?q=%22Brian+Williams%22\",\n        \"promoted_content\": null,\n        \"query\": \"%22Brian+Williams%22\",\n        \"tweet_volume\": 38271\n      },\n      {\n        \"name\": \"Tottenham\",\n        \"url\": \"http://twitter.com/search?q=Tottenham\",\n        \"promoted_content\": null,\n        \"query\": \"Tottenham\",\n        \"tweet_volume\": 50332\n      },\n      {\n        \"name\": \"Master Teague\",\n        \"url\": \"http://twitter.com/search?q=%22Master+Teague%22\",\n        \"promoted_content\": null,\n        \"query\": \"%22Master+Teague%22\",\n        \"tweet_volume\": null\n      },\n      {\n        \"name\": \"Clemson\",\n        \"url\": \"http://twitter.com/search?q=Clemson\",\n        \"promoted_content\": null,\n        \"query\": \"Clemson\",\n        \"tweet_volume\": 23665\n      },\n      {\n        \"name\": \"Michael Jordan\",\n        \"url\": \"http://twitter.com/search?q=%22Michael+Jordan%22\",\n        \"promoted_content\": null,\n        \"query\": \"%22Michael+Jordan%22\",\n        \"tweet_volume\": 10636\n      },\n      {\n        \"name\": \"Spurs\",\n        \"url\": \"http://twitter.com/search?q=Spurs\",\n        \"promoted_content\": null,\n        \"query\": \"Spurs\",\n        \"tweet_volume\": 69875\n      },\n      {\n        \"name\": \"Celtics\",\n        \"url\": \"http://twitter.com/search?q=Celtics\",\n        \"promoted_content\": null,\n        \"query\": \"Celtics\",\n        \"tweet_volume\": 50050\n      },\n      {\n        \"name\": \"Frost\",\n        \"url\": \"http://twitter.com/search?q=Frost\",\n        \"promoted_content\": null,\n        \"query\": \"Frost\",\n        \"tweet_volume\": 16040\n      },\n      {\n        \"name\": \"Garrett Wilson\",\n        \"url\": \"http://twitter.com/search?q=%22Garrett+Wilson%22\",\n        \"promoted_content\": null,\n        \"query\": \"%22Garrett+Wilson%22\",\n        \"tweet_volume\": null\n      },\n      {\n        \"name\": \"Arkansas\",\n        \"url\": \"http://twitter.com/search?q=Arkansas\",\n        \"promoted_content\": null,\n        \"query\": \"Arkansas\",\n        \"tweet_volume\": 12216\n      },\n      {\n        \"name\": \"Heisman\",\n        \"url\": \"http://twitter.com/search?q=Heisman\",\n        \"promoted_content\": null,\n        \"query\": \"Heisman\",\n        \"tweet_volume\": null\n      },\n      {\n        \"name\": \"Trask\",\n        \"url\": \"http://twitter.com/search?q=Trask\",\n        \"promoted_content\": null,\n        \"query\": \"Trask\",\n        \"tweet_volume\": null\n      },\n      {\n        \"name\": \"Kemba\",\n        \"url\": \"http://twitter.com/search?q=Kemba\",\n        \"promoted_content\": null,\n        \"query\": \"Kemba\",\n        \"tweet_volume\": null\n      },\n      {\n        \"name\": \"Gus Johnson\",\n        \"url\": \"http://twitter.com/search?q=%22Gus+Johnson%22\",\n        \"promoted_content\": null,\n        \"query\": \"%22Gus+Johnson%22\",\n        \"tweet_volume\": null\n      },\n      {\n        \"name\": \"Rozier\",\n        \"url\": \"http://twitter.com/search?q=Rozier\",\n        \"promoted_content\": null,\n        \"query\": \"Rozier\",\n        \"tweet_volume\": null\n      },\n      {\n        \"name\": \"Dom Perignon\",\n        \"url\": \"http://twitter.com/search?q=%22Dom+Perignon%22\",\n        \"promoted_content\": null,\n        \"query\": \"%22Dom+Perignon%22\",\n        \"tweet_volume\": 43775\n      },\n      {\n        \"name\": \"Hoosiers\",\n        \"url\": \"http://twitter.com/search?q=Hoosiers\",\n        \"promoted_content\": null,\n        \"query\": \"Hoosiers\",\n        \"tweet_volume\": null\n      },\n      {\n        \"name\": \"Trump Hotel\",\n        \"url\": \"http://twitter.com/search?q=%22Trump+Hotel%22\",\n        \"promoted_content\": null,\n        \"query\": \"%22Trump+Hotel%22\",\n        \"tweet_volume\": 83173\n      },\n      {\n        \"name\": \"Crowder\",\n        \"url\": \"http://twitter.com/search?q=Crowder\",\n        \"promoted_content\": null,\n        \"query\": \"Crowder\",\n        \"tweet_volume\": 14340\n      },\n      {\n        \"name\": \"Harry Kane\",\n        \"url\": \"http://twitter.com/search?q=%22Harry+Kane%22\",\n        \"promoted_content\": null,\n        \"query\": \"%22Harry+Kane%22\",\n        \"tweet_volume\": 13701\n      },\n      {\n        \"name\": \"Penix\",\n        \"url\": \"http://twitter.com/search?q=Penix\",\n        \"promoted_content\": null,\n        \"query\": \"Penix\",\n        \"tweet_volume\": null\n      },\n      {\n        \"name\": \"Man City\",\n        \"url\": \"http://twitter.com/search?q=%22Man+City%22\",\n        \"promoted_content\": null,\n        \"query\": \"%22Man+City%22\",\n        \"tweet_volume\": 39748\n      },\n      {\n        \"name\": \"Lo Celso\",\n        \"url\": \"http://twitter.com/search?q=%22Lo+Celso%22\",\n        \"promoted_content\": null,\n        \"query\": \"%22Lo+Celso%22\",\n        \"tweet_volume\": null\n      },\n      {\n        \"name\": \"Ruan\",\n        \"url\": \"http://twitter.com/search?q=Ruan\",\n        \"promoted_content\": null,\n        \"query\": \"Ruan\",\n        \"tweet_volume\": null\n      },\n      {\n        \"name\": \"Franks\",\n        \"url\": \"http://twitter.com/search?q=Franks\",\n        \"promoted_content\": null,\n        \"query\": \"Franks\",\n        \"tweet_volume\": null\n      },\n      {\n        \"name\": \"Mahrez\",\n        \"url\": \"http://twitter.com/search?q=Mahrez\",\n        \"promoted_content\": null,\n        \"query\": \"Mahrez\",\n        \"tweet_volume\": 14629\n      },\n      {\n        \"name\": \"The Muppets\",\n        \"url\": \"http://twitter.com/search?q=%22The+Muppets%22\",\n        \"promoted_content\": null,\n        \"query\": \"%22The+Muppets%22\",\n        \"tweet_volume\": null\n      },\n      {\n        \"name\": \"Olave\",\n        \"url\": \"http://twitter.com/search?q=Olave\",\n        \"promoted_content\": null,\n        \"query\": \"Olave\",\n        \"tweet_volume\": null\n      },\n      {\n        \"name\": \"Zeller\",\n        \"url\": \"http://twitter.com/search?q=Zeller\",\n        \"promoted_content\": null,\n        \"query\": \"Zeller\",\n        \"tweet_volume\": null\n      },\n      {\n        \"name\": \"Grantham\",\n        \"url\": \"http://twitter.com/search?q=Grantham\",\n        \"promoted_content\": null,\n        \"query\": \"Grantham\",\n        \"tweet_volume\": null\n      },\n      {\n        \"name\": \"Coastal Carolina\",\n        \"url\": \"http://twitter.com/search?q=%22Coastal+Carolina%22\",\n        \"promoted_content\": null,\n        \"query\": \"%22Coastal+Carolina%22\",\n        \"tweet_volume\": null\n      }\n    ],\n    \"as_of\": \"2020-11-21T19:55:13Z\",\n    \"created_at\": \"2020-11-20T10:10:21Z\",\n    \"locations\": [\n      {\n        \"name\": \"United States\",\n        \"woeid\": 23424977\n      }\n    ]\n  }\n]\n"
     ]
    }
   ],
   "source": [
    "import json\n",
    "\n",
    "print((json.dumps(us_trends[:2], indent=2)))"
   ]
  },
  {
   "cell_type": "markdown",
   "metadata": {},
   "source": [
    "## Example 4. Computing the intersection of two sets of trends"
   ]
  },
  {
   "cell_type": "code",
   "execution_count": 60,
   "metadata": {},
   "outputs": [],
   "source": [
    "trends_set = {}\n",
    "trends_set['world'] = set([trend['name'] \n",
    "                        for trend in world_trends[0]['trends']])\n",
    "\n",
    "trends_set['us'] = set([trend['name'] \n",
    "                     for trend in us_trends[0]['trends']]) \n",
    "\n",
    "trends_set['san diego'] = set([trend['name'] \n",
    "                     for trend in local_trends[0]['trends']]) "
   ]
  },
  {
   "cell_type": "code",
   "execution_count": 61,
   "metadata": {},
   "outputs": [
    {
     "output_type": "stream",
     "name": "stdout",
     "text": [
      "('----------', 'world')\n9ice,#bizevdeyiz,#TUBBO1MIL,Justin Fields,Man City,Buckeyes,السيتي,Hojbjerg,Danny Ainge,#Strictly,Nebraska,Maisie,baekhyun,توتنهام,Lennon,Guardiola,Stuart,Vandy,Avery Bradley,Hornets,Celta,Brian Williams,Manchester City,De Bruyne,Clemson,Dest,CHEGOU A PATROA,Mourinho,Mike Dean,#TOTMCI,Mahrez,Shaun Wade,Celtics,Ohio State,Aurier,Charlotte,#COYS,Michael Jordan,Indiana,Ederson,Tottenham,Spurs,Ndombele,Harry Kane,TRINTA DA RAI,Lo Celso,Batum,مورينهو,Tiago,Hayward\n('----------', 'us')\n#TUBBO1MIL,Rozier,Justin Fields,Man City,Buckeyes,#Huskers,Ruan,Danny Ainge,Heisman,Nebraska,Frost,Dom Perignon,Grantham,Olave,Trump Hotel,Trask,Vandy,Master Teague,Zeller,Avery Bradley,Hoosiers,Garrett Wilson,Hornets,Brian Williams,Penix,Clemson,Franks,Kemba,Mourinho,Crowder,Shaun Wade,#TOTMCI,Celtics,Arkansas,Mahrez,Ohio State,Charlotte,#COYS,Michael Jordan,Indiana,Tottenham,Spurs,Harry Kane,Lo Celso,#TwitterTurkeyDrive,Coastal Carolina,Batum,Gus Johnson,The Muppets,Hayward\n('----------', 'san diego')\nFeminismus,Boden,Gewicht,Nerven,Genesung,Kauf,Salzburg,Gesundheitsministerium,Daumen,Meister,Teststrategie,#ATPFinals2020,#zib1,Nachbar,Beileid,Spital,Zimmer,verlauf,Sieg,Germany,#thiem,Anschober,Quarantäne,Schönen Abend,bäume,frau maurer,Ausrede,Zeitpunkt,Tore,Symptome,Geschichten,Mund,Versteh,Geduld,Initiative,Christmas,#RBSSTU,Konzept,Familien,Wald,Motto,Finale,Mannschaft,Realität,Konkurrenz,Jungs,Ebenen,Türkis\n"
     ]
    }
   ],
   "source": [
    "for loc in ['world','us','san diego']:\n",
    "    print(('-'*10,loc))\n",
    "    print((','.join(trends_set[loc])))"
   ]
  },
  {
   "cell_type": "code",
   "execution_count": 62,
   "metadata": {},
   "outputs": [
    {
     "output_type": "stream",
     "name": "stdout",
     "text": [
      "('==========', 'intersection of world and us')\n{'#TUBBO1MIL', 'Justin Fields', 'Man City', 'Buckeyes', 'Danny Ainge', 'Nebraska', 'Vandy', 'Avery Bradley', 'Hornets', 'Brian Williams', 'Clemson', 'Mourinho', 'Shaun Wade', '#TOTMCI', 'Celtics', 'Mahrez', 'Ohio State', 'Charlotte', '#COYS', 'Michael Jordan', 'Indiana', 'Tottenham', 'Spurs', 'Harry Kane', 'Lo Celso', 'Batum', 'Hayward'}\n('==========', 'intersection of us and san-diego')\nset()\n"
     ]
    }
   ],
   "source": [
    "print(( '='*10,'intersection of world and us'))\n",
    "print((trends_set['world'].intersection(trends_set['us'])))\n",
    "\n",
    "print(('='*10,'intersection of us and san-diego'))\n",
    "print((trends_set['san diego'].intersection(trends_set['us'])))"
   ]
  },
  {
   "cell_type": "markdown",
   "metadata": {},
   "source": [
    "## Example 5. Collecting search results"
   ]
  },
  {
   "cell_type": "markdown",
   "metadata": {},
   "source": [
    "Set the variable `q` to a trending topic, \n",
    "or anything else for that matter. The example query below\n",
    "was a trending topic when this content was being developed\n",
    "and is used throughout the remainder of this chapter"
   ]
  },
  {
   "cell_type": "code",
   "execution_count": 63,
   "metadata": {},
   "outputs": [
    {
     "output_type": "stream",
     "name": "stdout",
     "text": [
      "<tweepy.cursor.ItemIterator object at 0x0000024E5F6A57F0>\n"
     ]
    }
   ],
   "source": [
    "# You can change this to whatever hashtag you want, but if the tag isn't\n",
    "# popular enough you might not get back a lot of results\n",
    "q = \"Rudy\"\n",
    "\n",
    "number = 100\n",
    "\n",
    "search_results = tweepy.Cursor(api.search, q=q, lang=\"en\").items(number)\n",
    "\n",
    "#This will give us an Iterator\n",
    "print(search_results)\n",
    "\n",
    "# WE will be looking at the tags \"retweeted\", \"retweet count\", \n",
    "# and the text we found earlier\n",
    "tweets = []\n",
    "retweeted = []\n",
    "retweet_count = []\n",
    "\n",
    "for tweet in search_results:\n",
    "    tweets.append(tweet.text)\n",
    "    retweet_count.append(tweet.retweet_count)\n",
    "    # This if/else just checks the number of retweets and defines \"rewteeted\"\n",
    "    # based on that value\n",
    "    if tweet.retweet_count > 0:\n",
    "        retweeted.append(True)\n",
    "    else:\n",
    "        retweeted.append(False)\n",
    "\n",
    "\n",
    "#tweets"
   ]
  },
  {
   "cell_type": "code",
   "execution_count": 64,
   "metadata": {},
   "outputs": [
    {
     "output_type": "execute_result",
     "data": {
      "text/plain": [
       "                                                Tweet  Retweeted  \\\n",
       "0   RT @WickedExhausted: Officials at trump’s Just...       True   \n",
       "1   @80sAging In the battle of the 4th Bee Gee v t...      False   \n",
       "2   RT @emptywheel: Reupping from earlier in the w...       True   \n",
       "3   @joannUSA1 @Acyn Don't worry, trumps will say ...      False   \n",
       "4   Here's what Giuliani's former colleagues say a...      False   \n",
       "..                                                ...        ...   \n",
       "95  RT @Strandjunker: Bill Barr’s daughter works a...       True   \n",
       "96  RT @PascrellforNJ: 🚨 I’ve just filed legal com...       True   \n",
       "97  RT @politvidchannel: BREAKING: A bar Complaint...       True   \n",
       "98  RT @Strandjunker: Bill Barr’s daughter works a...       True   \n",
       "99  @seanhannity Crazy Rudy says something violent...      False   \n",
       "\n",
       "    Retweet Count  \n",
       "0               1  \n",
       "1               0  \n",
       "2              41  \n",
       "3               0  \n",
       "4               0  \n",
       "..            ...  \n",
       "95           2292  \n",
       "96          19176  \n",
       "97           1758  \n",
       "98           2292  \n",
       "99              0  \n",
       "\n",
       "[100 rows x 3 columns]"
      ],
      "text/html": "<div>\n<style scoped>\n    .dataframe tbody tr th:only-of-type {\n        vertical-align: middle;\n    }\n\n    .dataframe tbody tr th {\n        vertical-align: top;\n    }\n\n    .dataframe thead th {\n        text-align: right;\n    }\n</style>\n<table border=\"1\" class=\"dataframe\">\n  <thead>\n    <tr style=\"text-align: right;\">\n      <th></th>\n      <th>Tweet</th>\n      <th>Retweeted</th>\n      <th>Retweet Count</th>\n    </tr>\n  </thead>\n  <tbody>\n    <tr>\n      <th>0</th>\n      <td>RT @WickedExhausted: Officials at trump’s Just...</td>\n      <td>True</td>\n      <td>1</td>\n    </tr>\n    <tr>\n      <th>1</th>\n      <td>@80sAging In the battle of the 4th Bee Gee v t...</td>\n      <td>False</td>\n      <td>0</td>\n    </tr>\n    <tr>\n      <th>2</th>\n      <td>RT @emptywheel: Reupping from earlier in the w...</td>\n      <td>True</td>\n      <td>41</td>\n    </tr>\n    <tr>\n      <th>3</th>\n      <td>@joannUSA1 @Acyn Don't worry, trumps will say ...</td>\n      <td>False</td>\n      <td>0</td>\n    </tr>\n    <tr>\n      <th>4</th>\n      <td>Here's what Giuliani's former colleagues say a...</td>\n      <td>False</td>\n      <td>0</td>\n    </tr>\n    <tr>\n      <th>...</th>\n      <td>...</td>\n      <td>...</td>\n      <td>...</td>\n    </tr>\n    <tr>\n      <th>95</th>\n      <td>RT @Strandjunker: Bill Barr’s daughter works a...</td>\n      <td>True</td>\n      <td>2292</td>\n    </tr>\n    <tr>\n      <th>96</th>\n      <td>RT @PascrellforNJ: 🚨 I’ve just filed legal com...</td>\n      <td>True</td>\n      <td>19176</td>\n    </tr>\n    <tr>\n      <th>97</th>\n      <td>RT @politvidchannel: BREAKING: A bar Complaint...</td>\n      <td>True</td>\n      <td>1758</td>\n    </tr>\n    <tr>\n      <th>98</th>\n      <td>RT @Strandjunker: Bill Barr’s daughter works a...</td>\n      <td>True</td>\n      <td>2292</td>\n    </tr>\n    <tr>\n      <th>99</th>\n      <td>@seanhannity Crazy Rudy says something violent...</td>\n      <td>False</td>\n      <td>0</td>\n    </tr>\n  </tbody>\n</table>\n<p>100 rows × 3 columns</p>\n</div>"
     },
     "metadata": {},
     "execution_count": 64
    }
   ],
   "source": [
    "# Not necessary, but this does make the data look pretty\n",
    "import pandas as pd\n",
    "\n",
    "df = pd.DataFrame({'Tweet':tweets, 'Retweeted':retweeted, \"Retweet Count\":retweet_count})\n",
    "\n",
    "df"
   ]
  },
  {
   "cell_type": "markdown",
   "metadata": {},
   "source": [
    "Twitter often returns duplicate results, we can filter them out checking for duplicate texts:"
   ]
  },
  {
   "cell_type": "code",
   "execution_count": 65,
   "metadata": {},
   "outputs": [
    {
     "output_type": "execute_result",
     "data": {
      "text/plain": [
       "'RT @WickedExhausted: Officials at trump’s Justice Department have no interest in pursuing rudy giuliani’s allegations of voter fraud. https…'"
      ]
     },
     "metadata": {},
     "execution_count": 65
    }
   ],
   "source": [
    "all_text = []\n",
    "filtered_tweets = []\n",
    "for t in tweets:\n",
    "    if not t in all_text:\n",
    "        filtered_tweets.append(t)\n",
    "        all_text.append(t)\n",
    "#filtered_tweets    \n",
    "filtered_tweets[0]"
   ]
  },
  {
   "cell_type": "code",
   "execution_count": 66,
   "metadata": {},
   "outputs": [
    {
     "output_type": "stream",
     "name": "stdout",
     "text": [
      "59\nThere were duplicates in our search results!\n"
     ]
    }
   ],
   "source": [
    "#This gives us the number of all of the unique tweets from our search results\n",
    "print(len(filtered_tweets))\n",
    "if len(filtered_tweets) < len(tweets):\n",
    "    print(\"There were duplicates in our search results!\")"
   ]
  },
  {
   "cell_type": "markdown",
   "metadata": {},
   "source": [
    "## Example 6. Creating a basic frequency distribution from the words in tweets"
   ]
  },
  {
   "cell_type": "code",
   "execution_count": 67,
   "metadata": {},
   "outputs": [
    {
     "output_type": "execute_result",
     "data": {
      "text/plain": [
       "[('RT', 76),\n",
       " ('Rudy', 67),\n",
       " ('and', 52),\n",
       " ('the', 42),\n",
       " ('to', 39),\n",
       " ('at', 37),\n",
       " ('Giuliani', 34),\n",
       " ('Bill', 22),\n",
       " ('Trump’s', 20),\n",
       " ('Giuliani’s', 19)]"
      ]
     },
     "metadata": {},
     "execution_count": 67
    }
   ],
   "source": [
    "from collections import Counter\n",
    "\n",
    "words = []\n",
    "\n",
    "for t in tweets:\n",
    "    for word in t.split():\n",
    "        words.append(word)\n",
    "        \n",
    "c = Counter(words)\n",
    "c.most_common(10)"
   ]
  },
  {
   "cell_type": "markdown",
   "metadata": {},
   "source": [
    "## Example 7. Create a prettyprint function to display tuples in a nice tabular format"
   ]
  },
  {
   "cell_type": "code",
   "execution_count": 68,
   "metadata": {},
   "outputs": [],
   "source": [
    "def prettyprint_counts(label, list_of_tuples):\n",
    "    print(\"\\n{:^20} | {:^6}\".format(label, \"Count\"))\n",
    "    print(\"*\"*40)\n",
    "    for k,v in list_of_tuples:\n",
    "        print(\"{:20} | {:>6}\".format(k,v))"
   ]
  },
  {
   "cell_type": "code",
   "execution_count": 69,
   "metadata": {},
   "outputs": [
    {
     "output_type": "stream",
     "name": "stdout",
     "text": [
      "\n        Word         | Count \n****************************************\nRT                   |     76\nRudy                 |     67\nand                  |     52\nthe                  |     42\nto                   |     39\nat                   |     37\nGiuliani             |     34\nBill                 |     22\nTrump’s              |     20\nGiuliani’s           |     19\n\n   Retweet_count     | Count \n****************************************\n                   0 |     25\n                1758 |      9\n                2291 |      6\n               19175 |      4\n                2290 |      4\n                2292 |      4\n                   2 |      3\n                2289 |      3\n                  17 |      3\n                 121 |      3\n"
     ]
    }
   ],
   "source": [
    "for label, data in (('Word', words), \n",
    "                    ('Retweet_count', retweet_count)):\n",
    "    \n",
    "    c = Counter(data)\n",
    "    prettyprint_counts(label, c.most_common()[:10])"
   ]
  },
  {
   "cell_type": "markdown",
   "metadata": {},
   "source": [
    "## Example 8. Finding the most popular retweets"
   ]
  },
  {
   "cell_type": "code",
   "execution_count": 70,
   "metadata": {},
   "outputs": [
    {
     "output_type": "execute_result",
     "data": {
      "text/plain": [
       "                                                Tweet  Retweeted  \\\n",
       "0   RT @WickedExhausted: Officials at trump’s Just...        1.0   \n",
       "2   RT @emptywheel: Reupping from earlier in the w...        1.0   \n",
       "5   RT @politvidchannel: BREAKING: A bar Complaint...        1.0   \n",
       "6   RT @ResitsTrump: @thehill Robert DiNero is an ...        1.0   \n",
       "7   RT @Strandjunker: Bill Barr’s daughter works a...        1.0   \n",
       "8   RT @Strandjunker: Bill Barr’s daughter works a...        1.0   \n",
       "9   RT @RichardAngwin: I nominate Rudy Giuliani to...        1.0   \n",
       "10  RT @mileskahn: I am no longer impressed that S...        1.0   \n",
       "11  RT @KimMangone: Rudy Giuliani should be disbar...        1.0   \n",
       "12  RT @noradunn: No, Venezuelan communists did no...        1.0   \n",
       "\n",
       "    Retweet Count  \n",
       "0             1.0  \n",
       "2            41.0  \n",
       "5          1758.0  \n",
       "6             2.0  \n",
       "7          2289.0  \n",
       "8          2289.0  \n",
       "9           208.0  \n",
       "10        14036.0  \n",
       "11         1122.0  \n",
       "12           17.0  "
      ],
      "text/html": "<div>\n<style scoped>\n    .dataframe tbody tr th:only-of-type {\n        vertical-align: middle;\n    }\n\n    .dataframe tbody tr th {\n        vertical-align: top;\n    }\n\n    .dataframe thead th {\n        text-align: right;\n    }\n</style>\n<table border=\"1\" class=\"dataframe\">\n  <thead>\n    <tr style=\"text-align: right;\">\n      <th></th>\n      <th>Tweet</th>\n      <th>Retweeted</th>\n      <th>Retweet Count</th>\n    </tr>\n  </thead>\n  <tbody>\n    <tr>\n      <th>0</th>\n      <td>RT @WickedExhausted: Officials at trump’s Just...</td>\n      <td>1.0</td>\n      <td>1.0</td>\n    </tr>\n    <tr>\n      <th>2</th>\n      <td>RT @emptywheel: Reupping from earlier in the w...</td>\n      <td>1.0</td>\n      <td>41.0</td>\n    </tr>\n    <tr>\n      <th>5</th>\n      <td>RT @politvidchannel: BREAKING: A bar Complaint...</td>\n      <td>1.0</td>\n      <td>1758.0</td>\n    </tr>\n    <tr>\n      <th>6</th>\n      <td>RT @ResitsTrump: @thehill Robert DiNero is an ...</td>\n      <td>1.0</td>\n      <td>2.0</td>\n    </tr>\n    <tr>\n      <th>7</th>\n      <td>RT @Strandjunker: Bill Barr’s daughter works a...</td>\n      <td>1.0</td>\n      <td>2289.0</td>\n    </tr>\n    <tr>\n      <th>8</th>\n      <td>RT @Strandjunker: Bill Barr’s daughter works a...</td>\n      <td>1.0</td>\n      <td>2289.0</td>\n    </tr>\n    <tr>\n      <th>9</th>\n      <td>RT @RichardAngwin: I nominate Rudy Giuliani to...</td>\n      <td>1.0</td>\n      <td>208.0</td>\n    </tr>\n    <tr>\n      <th>10</th>\n      <td>RT @mileskahn: I am no longer impressed that S...</td>\n      <td>1.0</td>\n      <td>14036.0</td>\n    </tr>\n    <tr>\n      <th>11</th>\n      <td>RT @KimMangone: Rudy Giuliani should be disbar...</td>\n      <td>1.0</td>\n      <td>1122.0</td>\n    </tr>\n    <tr>\n      <th>12</th>\n      <td>RT @noradunn: No, Venezuelan communists did no...</td>\n      <td>1.0</td>\n      <td>17.0</td>\n    </tr>\n  </tbody>\n</table>\n</div>"
     },
     "metadata": {},
     "execution_count": 70
    }
   ],
   "source": [
    "# This sets up a filter for our dataset that only leaves data with Retweeted\n",
    "# marked as true\n",
    "filter1 = df['Retweeted'] == True\n",
    "\n",
    "#This is a built in pandas operation that will filter the data given the filter\n",
    "rt_df = df.where(filter1)\n",
    "\n",
    "#Now we will have a new df without any NaN values\n",
    "rt_df = rt_df.dropna()\n",
    "\n",
    "#The indices will look odd, but this is because it is keeping the old indices\n",
    "rt_df.head(10)"
   ]
  },
  {
   "cell_type": "markdown",
   "metadata": {},
   "source": [
    "We can sort this dataframe in descending order of the number of retweets using df.sort_values()"
   ]
  },
  {
   "cell_type": "code",
   "execution_count": 71,
   "metadata": {},
   "outputs": [
    {
     "output_type": "execute_result",
     "data": {
      "text/plain": [
       "                                                Tweet  Retweeted  \\\n",
       "31  RT @realDonaldTrump: Giuliani: The Case for El...        1.0   \n",
       "93  RT @PascrellforNJ: 🚨 I’ve just filed legal com...        1.0   \n",
       "96  RT @PascrellforNJ: 🚨 I’ve just filed legal com...        1.0   \n",
       "23  RT @PascrellforNJ: 🚨 I’ve just filed legal com...        1.0   \n",
       "22  RT @PascrellforNJ: 🚨 I’ve just filed legal com...        1.0   \n",
       "\n",
       "    Retweet Count  \n",
       "31        37769.0  \n",
       "93        19176.0  \n",
       "96        19176.0  \n",
       "23        19175.0  \n",
       "22        19175.0  "
      ],
      "text/html": "<div>\n<style scoped>\n    .dataframe tbody tr th:only-of-type {\n        vertical-align: middle;\n    }\n\n    .dataframe tbody tr th {\n        vertical-align: top;\n    }\n\n    .dataframe thead th {\n        text-align: right;\n    }\n</style>\n<table border=\"1\" class=\"dataframe\">\n  <thead>\n    <tr style=\"text-align: right;\">\n      <th></th>\n      <th>Tweet</th>\n      <th>Retweeted</th>\n      <th>Retweet Count</th>\n    </tr>\n  </thead>\n  <tbody>\n    <tr>\n      <th>31</th>\n      <td>RT @realDonaldTrump: Giuliani: The Case for El...</td>\n      <td>1.0</td>\n      <td>37769.0</td>\n    </tr>\n    <tr>\n      <th>93</th>\n      <td>RT @PascrellforNJ: 🚨 I’ve just filed legal com...</td>\n      <td>1.0</td>\n      <td>19176.0</td>\n    </tr>\n    <tr>\n      <th>96</th>\n      <td>RT @PascrellforNJ: 🚨 I’ve just filed legal com...</td>\n      <td>1.0</td>\n      <td>19176.0</td>\n    </tr>\n    <tr>\n      <th>23</th>\n      <td>RT @PascrellforNJ: 🚨 I’ve just filed legal com...</td>\n      <td>1.0</td>\n      <td>19175.0</td>\n    </tr>\n    <tr>\n      <th>22</th>\n      <td>RT @PascrellforNJ: 🚨 I’ve just filed legal com...</td>\n      <td>1.0</td>\n      <td>19175.0</td>\n    </tr>\n  </tbody>\n</table>\n</div>"
     },
     "metadata": {},
     "execution_count": 71
    }
   ],
   "source": [
    "rt_df_sorted = rt_df.sort_values(by=\"Retweet Count\", ascending=0)\n",
    "\n",
    "rt_df_sorted.head(5)"
   ]
  },
  {
   "cell_type": "markdown",
   "metadata": {},
   "source": [
    "We can build another `prettyprint` function to print entire tweets with their retweet count.\n",
    "\n",
    "We also want to split the text of the tweet in up to 3 lines, if needed."
   ]
  },
  {
   "cell_type": "code",
   "execution_count": 72,
   "metadata": {},
   "outputs": [],
   "source": [
    "### Remember our pretty_print function from above\n",
    "### We will modify it slightly\n",
    "def prettyprint_counts_modified(label, list_of_tuples):\n",
    "    print(\"\\n{:^20} | {:^6}\".format(label, \"Count\"))\n",
    "    print(\"*\"*40)\n",
    "    for k,v in list_of_tuples:\n",
    "        print(\"{:20} | {:>6}\".format(k,v))"
   ]
  },
  {
   "cell_type": "code",
   "execution_count": 73,
   "metadata": {
    "scrolled": true
   },
   "outputs": [
    {
     "output_type": "stream",
     "name": "stdout",
     "text": [
      "\n       Tweet         | Count \n****************************************\nRT @Strandjunker: Bill Barr’s daughter works at Treasury to protect Trump’s tax returns, and loans at Deutsche Bank.\n\nRudy Giuliani’s son g… |     17\nRT @politvidchannel: BREAKING: A bar Complaint has been filed against Rudy Giuliani and several other attorneys representing the Trump camp… |      9\nRT @PascrellforNJ: 🚨 I’ve just filed legal complaints with the AZ, MI, NV, NY, and PA bars against Rudy Giuliani and 22 other lawyers seeki… |      6\nRT @KimMangone: Rudy Giuliani should be disbarred. |      4\nRT @TeaPainUSA: When you're too corrupt for Bill Barr.\n\nhttps://t.co/94IppJ04nT |      3\n\n   Retweet_count     | Count \n****************************************\n              1758.0 |      9\n              2291.0 |      6\n             19175.0 |      4\n              2292.0 |      4\n              2290.0 |      4\n"
     ]
    }
   ],
   "source": [
    "rt_tweets = rt_df_sorted[\"Tweet\"]\n",
    "rt_re_count = rt_df_sorted[\"Retweet Count\"]\n",
    "\n",
    "for label, data in (('Tweet', rt_tweets), \n",
    "                    ('Retweet_count', rt_re_count)):\n",
    "    \n",
    "    c2 = Counter(data)\n",
    "    prettyprint_counts_modified(label, c2.most_common()[:5])"
   ]
  },
  {
   "cell_type": "code",
   "execution_count": null,
   "metadata": {},
   "outputs": [],
   "source": []
  },
  {
   "cell_type": "code",
   "execution_count": null,
   "metadata": {},
   "outputs": [],
   "source": []
  }
 ],
 "metadata": {
  "anaconda-cloud": {},
  "kernelspec": {
   "display_name": "Python 3",
   "language": "python",
   "name": "python3"
  },
  "language_info": {
   "codemirror_mode": {
    "name": "ipython",
    "version": 3
   },
   "file_extension": ".py",
   "mimetype": "text/x-python",
   "name": "python",
   "nbconvert_exporter": "python",
   "pygments_lexer": "ipython3",
   "version": "3.8.3-final"
  }
 },
 "nbformat": 4,
 "nbformat_minor": 1
}